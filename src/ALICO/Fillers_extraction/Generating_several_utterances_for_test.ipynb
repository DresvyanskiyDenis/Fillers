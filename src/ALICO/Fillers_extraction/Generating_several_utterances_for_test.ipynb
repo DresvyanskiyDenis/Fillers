{
 "cells": [
  {
   "cell_type": "code",
   "execution_count": 1,
   "id": "c39b1f7e",
   "metadata": {},
   "outputs": [],
   "source": [
    "from main import extract_label_timesteps_from_files_in_dir, extract_label_timesteps_from_file"
   ]
  },
  {
   "cell_type": "code",
   "execution_count": 3,
   "id": "e461c456",
   "metadata": {},
   "outputs": [],
   "source": [
    "label_timesteps=extract_label_timesteps_from_files_in_dir(r'E:\\Databases\\ALICO\\ALICO\\alico_coop\\segmentation',\n",
    "                                                          labels=('ja','m','mhm','okay','achso','ah'))"
   ]
  }
 ],
 "metadata": {
  "kernelspec": {
   "display_name": "Python 3",
   "language": "python",
   "name": "python3"
  },
  "language_info": {
   "codemirror_mode": {
    "name": "ipython",
    "version": 3
   },
   "file_extension": ".py",
   "mimetype": "text/x-python",
   "name": "python",
   "nbconvert_exporter": "python",
   "pygments_lexer": "ipython3",
   "version": "3.6.13"
  }
 },
 "nbformat": 4,
 "nbformat_minor": 5
}
